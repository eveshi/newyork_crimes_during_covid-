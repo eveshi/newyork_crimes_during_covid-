{
 "metadata": {
  "language_info": {
   "codemirror_mode": {
    "name": "ipython",
    "version": 3
   },
   "file_extension": ".py",
   "mimetype": "text/x-python",
   "name": "python",
   "nbconvert_exporter": "python",
   "pygments_lexer": "ipython3",
   "version": "3.7.6-final"
  },
  "orig_nbformat": 2,
  "kernelspec": {
   "name": "python3",
   "display_name": "Python 3",
   "language": "python"
  }
 },
 "nbformat": 4,
 "nbformat_minor": 2,
 "cells": [
  {
   "cell_type": "code",
   "execution_count": 153,
   "metadata": {},
   "outputs": [],
   "source": [
    "import pandas as pd\n",
    "import numpy as np\n",
    "import json\n",
    "import geopandas\n",
    "from shapely.geometry import Point\n",
    "import urllib.request\n"
   ]
  },
  {
   "cell_type": "code",
   "execution_count": 154,
   "metadata": {},
   "outputs": [],
   "source": [
    "complaint = pd.read_csv('NYPD_Complaint_Data_Historic.csv')"
   ]
  },
  {
   "cell_type": "code",
   "execution_count": 155,
   "metadata": {},
   "outputs": [
    {
     "output_type": "stream",
     "name": "stdout",
     "text": [
      "<class 'pandas.core.frame.DataFrame'>\nRangeIndex: 6983207 entries, 0 to 6983206\nData columns (total 35 columns):\n #   Column             Dtype  \n---  ------             -----  \n 0   CMPLNT_NUM         int64  \n 1   CMPLNT_FR_DT       object \n 2   CMPLNT_FR_TM       object \n 3   CMPLNT_TO_DT       object \n 4   CMPLNT_TO_TM       object \n 5   ADDR_PCT_CD        float64\n 6   RPT_DT             object \n 7   KY_CD              int64  \n 8   OFNS_DESC          object \n 9   PD_CD              float64\n 10  PD_DESC            object \n 11  CRM_ATPT_CPTD_CD   object \n 12  LAW_CAT_CD         object \n 13  BORO_NM            object \n 14  LOC_OF_OCCUR_DESC  object \n 15  PREM_TYP_DESC      object \n 16  JURIS_DESC         object \n 17  JURISDICTION_CODE  float64\n 18  PARKS_NM           object \n 19  HADEVELOPT         object \n 20  HOUSING_PSA        object \n 21  X_COORD_CD         float64\n 22  Y_COORD_CD         float64\n 23  SUSP_AGE_GROUP     object \n 24  SUSP_RACE          object \n 25  SUSP_SEX           object \n 26  TRANSIT_DISTRICT   float64\n 27  Latitude           float64\n 28  Longitude          float64\n 29  Lat_Lon            object \n 30  PATROL_BORO        object \n 31  STATION_NAME       object \n 32  VIC_AGE_GROUP      object \n 33  VIC_RACE           object \n 34  VIC_SEX            object \ndtypes: float64(8), int64(2), object(25)\nmemory usage: 1.8+ GB\n"
     ]
    }
   ],
   "source": [
    "complaint.info()"
   ]
  },
  {
   "cell_type": "code",
   "execution_count": 156,
   "metadata": {},
   "outputs": [
    {
     "output_type": "execute_result",
     "data": {
      "text/plain": [
       "         CMPLNT_NUM CMPLNT_FR_DT CMPLNT_FR_TM CMPLNT_TO_DT CMPLNT_TO_TM  \\\n",
       "6983202   202934942   09/12/2014     17:50:00   09/12/2014     17:55:00   \n",
       "6983203   327134526   12/20/2012     13:30:00   12/20/2012     13:35:00   \n",
       "6983204   671421638   04/04/2013     13:00:00   04/04/2013     15:30:00   \n",
       "6983205   980011525   09/09/2015     13:00:00   09/09/2015     13:50:00   \n",
       "6983206   719347170   08/19/2012     01:00:00   08/19/2012     01:30:00   \n",
       "\n",
       "         ADDR_PCT_CD      RPT_DT  KY_CD                     OFNS_DESC  PD_CD  \\\n",
       "6983202         28.0  09/12/2014    341                 PETIT LARCENY  333.0   \n",
       "6983203         70.0  12/20/2012    344  ASSAULT 3 & RELATED OFFENSES  101.0   \n",
       "6983204         90.0  04/04/2013    341                 PETIT LARCENY  321.0   \n",
       "6983205         13.0  09/09/2015    360                           NaN  649.0   \n",
       "6983206         73.0  08/19/2012    344  ASSAULT 3 & RELATED OFFENSES  101.0   \n",
       "\n",
       "         ... SUSP_SEX TRANSIT_DISTRICT   Latitude  Longitude  \\\n",
       "6983202  ...      NaN              NaN  40.808374 -73.946886   \n",
       "6983203  ...      NaN              NaN  40.648648 -73.967731   \n",
       "6983204  ...      NaN              NaN  40.716045 -73.964163   \n",
       "6983205  ...      NaN              4.0  40.735211 -73.991691   \n",
       "6983206  ...        M              NaN  40.667573 -73.907296   \n",
       "\n",
       "                               Lat_Lon              PATROL_BORO  \\\n",
       "6983202  (40.808374136, -73.946885823)    PATROL BORO MAN NORTH   \n",
       "6983203  (40.648648047, -73.967730515)  PATROL BORO BKLYN SOUTH   \n",
       "6983204  (40.716044892, -73.964162712)  PATROL BORO BKLYN NORTH   \n",
       "6983205  (40.735211323, -73.991691398)    PATROL BORO MAN SOUTH   \n",
       "6983206  (40.667573424, -73.907295766)  PATROL BORO BKLYN NORTH   \n",
       "\n",
       "              STATION_NAME  VIC_AGE_GROUP VIC_RACE VIC_SEX  \n",
       "6983202                NaN            NaN  UNKNOWN       D  \n",
       "6983203                NaN          25-44    BLACK       F  \n",
       "6983204                NaN          45-64    WHITE       M  \n",
       "6983205  DISTRICT 4 OFFICE            NaN  UNKNOWN       E  \n",
       "6983206                NaN          25-44    BLACK       F  \n",
       "\n",
       "[5 rows x 35 columns]"
      ],
      "text/html": "<div>\n<style scoped>\n    .dataframe tbody tr th:only-of-type {\n        vertical-align: middle;\n    }\n\n    .dataframe tbody tr th {\n        vertical-align: top;\n    }\n\n    .dataframe thead th {\n        text-align: right;\n    }\n</style>\n<table border=\"1\" class=\"dataframe\">\n  <thead>\n    <tr style=\"text-align: right;\">\n      <th></th>\n      <th>CMPLNT_NUM</th>\n      <th>CMPLNT_FR_DT</th>\n      <th>CMPLNT_FR_TM</th>\n      <th>CMPLNT_TO_DT</th>\n      <th>CMPLNT_TO_TM</th>\n      <th>ADDR_PCT_CD</th>\n      <th>RPT_DT</th>\n      <th>KY_CD</th>\n      <th>OFNS_DESC</th>\n      <th>PD_CD</th>\n      <th>...</th>\n      <th>SUSP_SEX</th>\n      <th>TRANSIT_DISTRICT</th>\n      <th>Latitude</th>\n      <th>Longitude</th>\n      <th>Lat_Lon</th>\n      <th>PATROL_BORO</th>\n      <th>STATION_NAME</th>\n      <th>VIC_AGE_GROUP</th>\n      <th>VIC_RACE</th>\n      <th>VIC_SEX</th>\n    </tr>\n  </thead>\n  <tbody>\n    <tr>\n      <th>6983202</th>\n      <td>202934942</td>\n      <td>09/12/2014</td>\n      <td>17:50:00</td>\n      <td>09/12/2014</td>\n      <td>17:55:00</td>\n      <td>28.0</td>\n      <td>09/12/2014</td>\n      <td>341</td>\n      <td>PETIT LARCENY</td>\n      <td>333.0</td>\n      <td>...</td>\n      <td>NaN</td>\n      <td>NaN</td>\n      <td>40.808374</td>\n      <td>-73.946886</td>\n      <td>(40.808374136, -73.946885823)</td>\n      <td>PATROL BORO MAN NORTH</td>\n      <td>NaN</td>\n      <td>NaN</td>\n      <td>UNKNOWN</td>\n      <td>D</td>\n    </tr>\n    <tr>\n      <th>6983203</th>\n      <td>327134526</td>\n      <td>12/20/2012</td>\n      <td>13:30:00</td>\n      <td>12/20/2012</td>\n      <td>13:35:00</td>\n      <td>70.0</td>\n      <td>12/20/2012</td>\n      <td>344</td>\n      <td>ASSAULT 3 &amp; RELATED OFFENSES</td>\n      <td>101.0</td>\n      <td>...</td>\n      <td>NaN</td>\n      <td>NaN</td>\n      <td>40.648648</td>\n      <td>-73.967731</td>\n      <td>(40.648648047, -73.967730515)</td>\n      <td>PATROL BORO BKLYN SOUTH</td>\n      <td>NaN</td>\n      <td>25-44</td>\n      <td>BLACK</td>\n      <td>F</td>\n    </tr>\n    <tr>\n      <th>6983204</th>\n      <td>671421638</td>\n      <td>04/04/2013</td>\n      <td>13:00:00</td>\n      <td>04/04/2013</td>\n      <td>15:30:00</td>\n      <td>90.0</td>\n      <td>04/04/2013</td>\n      <td>341</td>\n      <td>PETIT LARCENY</td>\n      <td>321.0</td>\n      <td>...</td>\n      <td>NaN</td>\n      <td>NaN</td>\n      <td>40.716045</td>\n      <td>-73.964163</td>\n      <td>(40.716044892, -73.964162712)</td>\n      <td>PATROL BORO BKLYN NORTH</td>\n      <td>NaN</td>\n      <td>45-64</td>\n      <td>WHITE</td>\n      <td>M</td>\n    </tr>\n    <tr>\n      <th>6983205</th>\n      <td>980011525</td>\n      <td>09/09/2015</td>\n      <td>13:00:00</td>\n      <td>09/09/2015</td>\n      <td>13:50:00</td>\n      <td>13.0</td>\n      <td>09/09/2015</td>\n      <td>360</td>\n      <td>NaN</td>\n      <td>649.0</td>\n      <td>...</td>\n      <td>NaN</td>\n      <td>4.0</td>\n      <td>40.735211</td>\n      <td>-73.991691</td>\n      <td>(40.735211323, -73.991691398)</td>\n      <td>PATROL BORO MAN SOUTH</td>\n      <td>DISTRICT 4 OFFICE</td>\n      <td>NaN</td>\n      <td>UNKNOWN</td>\n      <td>E</td>\n    </tr>\n    <tr>\n      <th>6983206</th>\n      <td>719347170</td>\n      <td>08/19/2012</td>\n      <td>01:00:00</td>\n      <td>08/19/2012</td>\n      <td>01:30:00</td>\n      <td>73.0</td>\n      <td>08/19/2012</td>\n      <td>344</td>\n      <td>ASSAULT 3 &amp; RELATED OFFENSES</td>\n      <td>101.0</td>\n      <td>...</td>\n      <td>M</td>\n      <td>NaN</td>\n      <td>40.667573</td>\n      <td>-73.907296</td>\n      <td>(40.667573424, -73.907295766)</td>\n      <td>PATROL BORO BKLYN NORTH</td>\n      <td>NaN</td>\n      <td>25-44</td>\n      <td>BLACK</td>\n      <td>F</td>\n    </tr>\n  </tbody>\n</table>\n<p>5 rows × 35 columns</p>\n</div>"
     },
     "metadata": {},
     "execution_count": 156
    }
   ],
   "source": [
    "complaint.tail()"
   ]
  },
  {
   "source": [
    "When a complaint contains only a From Datetime, this represents the exact datetime when the crime incident was reported to occur. In the event a complaint has both a From Datetime and a To Datetime, a time range (rather than an exact time) was specified for the occurrence of the crime. In rare cases, records containing only a To Datetime indicate only a known endpoint to the crime. Thus, we use \"from date\" as the date to analysis."
   ],
   "cell_type": "markdown",
   "metadata": {}
  },
  {
   "cell_type": "code",
   "execution_count": 157,
   "metadata": {},
   "outputs": [],
   "source": [
    "complaint[\"date\"] = pd.to_datetime(complaint[\"CMPLNT_FR_DT\"], format='%m/%d/%Y', errors='coerce')"
   ]
  },
  {
   "cell_type": "code",
   "execution_count": 158,
   "metadata": {},
   "outputs": [
    {
     "output_type": "execute_result",
     "data": {
      "text/plain": [
       "Timestamp('2019-12-31 00:00:00')"
      ]
     },
     "metadata": {},
     "execution_count": 158
    }
   ],
   "source": [
    "complaint[\"date\"].max()"
   ]
  },
  {
   "cell_type": "code",
   "execution_count": 159,
   "metadata": {},
   "outputs": [],
   "source": [
    "complaint2019 = complaint[(complaint[\"date\"]>pd.to_datetime('02/28/2019', format='%m/%d/%Y')) & (complaint[\"date\"]<pd.to_datetime('07/01/2019', format='%m/%d/%Y'))]"
   ]
  },
  {
   "cell_type": "code",
   "execution_count": 160,
   "metadata": {},
   "outputs": [],
   "source": [
    "complaint2018 = complaint[(complaint[\"date\"]>pd.to_datetime('02/28/2018', format='%m/%d/%Y')) & (complaint[\"date\"]<pd.to_datetime('07/01/2018', format='%m/%d/%Y'))]\n",
    "complaint2017 = complaint[(complaint[\"date\"]>pd.to_datetime('02/28/2017', format='%m/%d/%Y')) & (complaint[\"date\"]<pd.to_datetime('07/01/2017', format='%m/%d/%Y'))]"
   ]
  },
  {
   "cell_type": "code",
   "execution_count": 161,
   "metadata": {},
   "outputs": [],
   "source": [
    "complaintCurrent = pd.read_csv('NYPD_Complaint_Data_Current__Year_To_Date_.csv')"
   ]
  },
  {
   "cell_type": "code",
   "execution_count": 162,
   "metadata": {},
   "outputs": [],
   "source": [
    "complaintCurrent[\"date\"] = pd.to_datetime(complaintCurrent[\"CMPLNT_FR_DT\"], format='%m/%d/%Y', errors='coerce')"
   ]
  },
  {
   "cell_type": "code",
   "execution_count": 163,
   "metadata": {},
   "outputs": [],
   "source": [
    "complaint2020 = complaintCurrent[(complaintCurrent[\"date\"]>pd.to_datetime('02/29/2020', format='%m/%d/%Y')) & (complaintCurrent[\"date\"]<pd.to_datetime('07/01/2020', format='%m/%d/%Y'))]"
   ]
  },
  {
   "cell_type": "code",
   "execution_count": 164,
   "metadata": {},
   "outputs": [],
   "source": [
    "complaint2020 = complaint2020.drop_duplicates(subset=\"CMPLNT_NUM\", keep='last')\n",
    "complaint2019 = complaint2019.drop_duplicates(subset=\"CMPLNT_NUM\", keep='last')\n",
    "complaint2018 = complaint2018.drop_duplicates(subset=\"CMPLNT_NUM\", keep='last')\n",
    "complaint2017 = complaint2017.drop_duplicates(subset=\"CMPLNT_NUM\", keep='last')"
   ]
  },
  {
   "cell_type": "code",
   "execution_count": 165,
   "metadata": {},
   "outputs": [
    {
     "output_type": "execute_result",
     "data": {
      "text/plain": [
       "array(['ASSAULT 3 & RELATED OFFENSES', 'GRAND LARCENY', 'PETIT LARCENY',\n",
       "       'HARRASSMENT 2', 'MURDER & NON-NEGL. MANSLAUGHTER', 'SEX CRIMES',\n",
       "       'DANGEROUS WEAPONS', 'CRIMINAL MISCHIEF & RELATED OF', 'BURGLARY',\n",
       "       'INTOXICATED & IMPAIRED DRIVING', 'DANGEROUS DRUGS',\n",
       "       'CRIMINAL TRESPASS', 'OFF. AGNST PUB ORD SENSBLTY &',\n",
       "       'FELONY ASSAULT', 'FRAUDS', 'MISCELLANEOUS PENAL LAW',\n",
       "       'OFFENSES AGAINST PUBLIC ADMINI', 'VEHICLE AND TRAFFIC LAWS',\n",
       "       'GRAND LARCENY OF MOTOR VEHICLE', 'OTHER OFFENSES RELATED TO THEF',\n",
       "       'THEFT-FRAUD', 'ROBBERY', 'UNAUTHORIZED USE OF A VEHICLE',\n",
       "       'FORGERY', 'ARSON', 'OFFENSES AGAINST THE PERSON',\n",
       "       'POSSESSION OF STOLEN PROPERTY', 'RAPE',\n",
       "       'OFFENSES INVOLVING FRAUD', nan, 'ADMINISTRATIVE CODE',\n",
       "       'KIDNAPPING & RELATED OFFENSES', 'FRAUDULENT ACCOSTING',\n",
       "       'NYS LAWS-UNCLASSIFIED FELONY', 'OTHER STATE LAWS (NON PENAL LA',\n",
       "       'THEFT OF SERVICES', 'ALCOHOLIC BEVERAGE CONTROL LAW',\n",
       "       'PROSTITUTION & RELATED OFFENSES', 'GAMBLING', \"BURGLAR'S TOOLS\",\n",
       "       'OFFENSES RELATED TO CHILDREN', 'PETIT LARCENY OF MOTOR VEHICLE',\n",
       "       'JOSTLING', 'AGRICULTURE & MRKTS LAW-UNCLASSIFIED',\n",
       "       'OFFENSES AGAINST PUBLIC SAFETY', 'LOITERING', 'ESCAPE 3',\n",
       "       'CHILD ABANDONMENT/NON SUPPORT', 'ENDAN WELFARE INCOMP',\n",
       "       'DISORDERLY CONDUCT', 'HOMICIDE-NEGLIGENT-VEHICLE',\n",
       "       'NYS LAWS-UNCLASSIFIED VIOLATION',\n",
       "       'HOMICIDE-NEGLIGENT,UNCLASSIFIE', 'NEW YORK CITY HEALTH CODE',\n",
       "       'OTHER STATE LAWS', 'LOITERING/GAMBLING (CARDS, DIC',\n",
       "       'INTOXICATED/IMPAIRED DRIVING', 'OTHER TRAFFIC INFRACTION',\n",
       "       'KIDNAPPING', 'UNLAWFUL POSS. WEAP. ON SCHOOL',\n",
       "       'DISRUPTION OF A RELIGIOUS SERV', 'ANTICIPATORY OFFENSES',\n",
       "       'ADMINISTRATIVE CODES', 'OTHER STATE LAWS (NON PENAL LAW)',\n",
       "       'LOITERING FOR DRUG PURPOSES', 'LOITERING/DEVIATE SEX',\n",
       "       'UNDER THE INFLUENCE OF DRUGS', 'FORTUNE TELLING', 'ABORTION',\n",
       "       'OFFENSES AGAINST MARRIAGE UNCL',\n",
       "       'KIDNAPPING AND RELATED OFFENSES', 'FELONY SEX CRIMES'],\n",
       "      dtype=object)"
      ]
     },
     "metadata": {},
     "execution_count": 165
    }
   ],
   "source": [
    "complaint[\"OFNS_DESC\"].unique()"
   ]
  },
  {
   "cell_type": "code",
   "execution_count": 166,
   "metadata": {},
   "outputs": [],
   "source": [
    "# Crime reclassification, may overlapped, but classified due to research purpose, https://www.justia.com/criminal/offenses/\n",
    "CRIME_TYPES = {\n",
    "    \"property crimes\": [\n",
    "        'GRAND LARCENY',\n",
    "        'PETIT LARCENY',\n",
    "        'CRIMINAL MISCHIEF & RELATED OF',\n",
    "        'BURGLARY',\n",
    "        'ARSON',\n",
    "        'OFFENSES AGAINST THE PERSON',\n",
    "        'POSSESSION OF STOLEN PROPERTY',\n",
    "        'GRAND LARCENY OF MOTOR VEHICLE',\n",
    "        'OTHER OFFENSES RELATED TO THEF',\n",
    "        'THEFT-FRAUD',\n",
    "        'ROBBERY',\n",
    "        'THEFT OF SERVICES',\n",
    "        \"BURGLAR'S TOOLS\",\n",
    "        'PETIT LARCENY OF MOTOR VEHICLE',\n",
    "        'JOSTLING'\n",
    "    ],\n",
    "    \"personal crimes\": [\n",
    "        'ASSAULT 3 & RELATED OFFENSES',\n",
    "        'HARRASSMENT 2',\n",
    "        'MURDER & NON-NEGL. MANSLAUGHTER',\n",
    "        'SEX CRIMES',\n",
    "        'FELONY ASSAULT',\n",
    "        'RAPE',\n",
    "        'KIDNAPPING & RELATED OFFENSES',\n",
    "        'NYS LAWS-UNCLASSIFIED FELONY',\n",
    "        'OFFENSES RELATED TO CHILDREN',\n",
    "        'CHILD ABANDONMENT/NON SUPPORT',\n",
    "        'HOMICIDE-NEGLIGENT,UNCLASSIFIE',\n",
    "        'HOMICIDE-NEGLIGENT-VEHICLE',\n",
    "        'KIDNAPPING',\n",
    "        'KIDNAPPING AND RELATED OFFENSES',\n",
    "        'FELONY SEX CRIMES'\n",
    "    ],\n",
    "    \"statutory crimes\": [\n",
    "        'DANGEROUS DRUGS',\n",
    "        'OFF. AGNST PUB ORD SENSBLTY &',\n",
    "        'ALCOHOLIC BEVERAGE CONTROL LAW',\n",
    "        'LOITERING FOR DRUG PURPOSES',\n",
    "        'UNDER THE INFLUENCE OF DRUGS'\n",
    "    ],\n",
    "    \"traffic crimes\": [\n",
    "        'INTOXICATED & IMPAIRED DRIVING',\n",
    "        'UNAUTHORIZED USE OF A VEHICLE',\n",
    "        'UNAUTHORIZED USE OF A VEHICLE',\n",
    "        'HOMICIDE-NEGLIGENT-VEHICLE',\n",
    "        'INTOXICATED/IMPAIRED DRIVING',\n",
    "        'OTHER TRAFFIC INFRACTION'\n",
    "    ],\n",
    "    \"other crimes\": [\n",
    "        'DANGEROUS WEAPONS',\n",
    "        'CRIMINAL TRESPASS',\n",
    "        'FRAUDS',\n",
    "        'MISCELLANEOUS PENAL LAW',\n",
    "        'OFFENSES AGAINST PUBLIC ADMINI',\n",
    "        'FORGERY',\n",
    "        'OFFENSES INVOLVING FRAUD',\n",
    "        'FRAUDULENT ACCOSTING',\n",
    "        'OTHER STATE LAWS (NON PENAL LA',\n",
    "        'PROSTITUTION & RELATED OFFENSES',\n",
    "        'GAMBLING',\n",
    "        'AGRICULTURE & MRKTS LAW-UNCLASSIFIED',\n",
    "        'OFFENSES AGAINST PUBLIC SAFETY',\n",
    "        'LOITERING',\n",
    "        'ESCAPE 3',\n",
    "        'ENDAN WELFARE INCOMP',\n",
    "        'DISORDERLY CONDUCT',\n",
    "        'NYS LAWS-UNCLASSIFIED VIOLATION',\n",
    "        'OTHER STATE LAWS',\n",
    "        'LOITERING/GAMBLING (CARDS, DIC',\n",
    "        'UNLAWFUL POSS. WEAP. ON SCHOOL',\n",
    "        'DISRUPTION OF A RELIGIOUS SERV',\n",
    "        'ANTICIPATORY OFFENSES',\n",
    "        'OTHER STATE LAWS (NON PENAL LAW)',\n",
    "        'LOITERING/DEVIATE SEX',\n",
    "        'FORTUNE TELLING',\n",
    "        'ABORTION',\n",
    "        'OFFENSES AGAINST MARRIAGE UNCL',\n",
    "        'ADMINISTRATIVE CODE',\n",
    "        'NEW YORK CITY HEALTH CODE',\n",
    "        'ADMINISTRATIVE CODES'\n",
    "    ]\n",
    "}"
   ]
  },
  {
   "cell_type": "code",
   "execution_count": 167,
   "metadata": {},
   "outputs": [],
   "source": [
    "def reclassify(crime_desc):\n",
    "    arr = []\n",
    "    classified = \"N/A\"\n",
    "    for crime_code in crime_desc:\n",
    "        for key in CRIME_TYPES:\n",
    "            if crime_code in CRIME_TYPES[key]:\n",
    "                classified = key\n",
    "        arr.append(classified)\n",
    "    \n",
    "    return arr"
   ]
  },
  {
   "cell_type": "code",
   "execution_count": 168,
   "metadata": {
    "tags": []
   },
   "outputs": [],
   "source": [
    "complaint2020 = complaint2020.reset_index().assign(reclassification=pd.Series(np.array(reclassify(complaint2020[\"OFNS_DESC\"]))))\n",
    "complaint2019 = complaint2019.reset_index().assign(reclassification=pd.Series(np.array(reclassify(complaint2019[\"OFNS_DESC\"]))))\n",
    "complaint2018 = complaint2018.reset_index().assign(reclassification=pd.Series(np.array(reclassify(complaint2018[\"OFNS_DESC\"]))))\n",
    "complaint2017 = complaint2017.reset_index().assign(reclassification=pd.Series(np.array(reclassify(complaint2017[\"OFNS_DESC\"]))))"
   ]
  },
  {
   "cell_type": "code",
   "execution_count": 169,
   "metadata": {},
   "outputs": [],
   "source": [
    "complaint2020 = geopandas.GeoDataFrame(complaint2020, geometry=geopandas.points_from_xy(x=complaint2020.Longitude, y=complaint2020.Latitude))\n",
    "complaint2019 = geopandas.GeoDataFrame(complaint2019, geometry=geopandas.points_from_xy(x=complaint2019.Longitude, y=complaint2019.Latitude))\n",
    "complaint2018 = geopandas.GeoDataFrame(complaint2018, geometry=geopandas.points_from_xy(x=complaint2018.Longitude, y=complaint2018.Latitude))\n",
    "complaint2017 = geopandas.GeoDataFrame(complaint2017, geometry=geopandas.points_from_xy(x=complaint2017.Longitude, y=complaint2017.Latitude))"
   ]
  },
  {
   "cell_type": "code",
   "execution_count": 170,
   "metadata": {},
   "outputs": [
    {
     "output_type": "execute_result",
     "data": {
      "text/plain": [
       "  ZIPCODE BLDGZIP   PO_NAME  POPULATION          AREA STATE  COUNTY ST_FIPS  \\\n",
       "0   11436       0   Jamaica     18681.0  2.269930e+07    NY  Queens      36   \n",
       "1   11213       0  Brooklyn     62426.0  2.963100e+07    NY   Kings      36   \n",
       "2   11212       0  Brooklyn     83866.0  4.197210e+07    NY   Kings      36   \n",
       "3   11225       0  Brooklyn     56527.0  2.369863e+07    NY   Kings      36   \n",
       "4   11218       0  Brooklyn     72280.0  3.686880e+07    NY   Kings      36   \n",
       "\n",
       "  CTY_FIPS                   URL  SHAPE_AREA  SHAPE_LEN  \\\n",
       "0      081  http://www.usps.com/         0.0        0.0   \n",
       "1      047  http://www.usps.com/         0.0        0.0   \n",
       "2      047  http://www.usps.com/         0.0        0.0   \n",
       "3      047  http://www.usps.com/         0.0        0.0   \n",
       "4      047  http://www.usps.com/         0.0        0.0   \n",
       "\n",
       "                                            geometry  \n",
       "0  POLYGON ((1038098.252 188138.380, 1038141.936 ...  \n",
       "1  POLYGON ((1001613.713 186926.440, 1002314.243 ...  \n",
       "2  POLYGON ((1011174.276 183696.338, 1011373.584 ...  \n",
       "3  POLYGON ((995908.365 183617.613, 996522.848 18...  \n",
       "4  POLYGON ((991997.113 176307.496, 992042.798 17...  "
      ],
      "text/html": "<div>\n<style scoped>\n    .dataframe tbody tr th:only-of-type {\n        vertical-align: middle;\n    }\n\n    .dataframe tbody tr th {\n        vertical-align: top;\n    }\n\n    .dataframe thead th {\n        text-align: right;\n    }\n</style>\n<table border=\"1\" class=\"dataframe\">\n  <thead>\n    <tr style=\"text-align: right;\">\n      <th></th>\n      <th>ZIPCODE</th>\n      <th>BLDGZIP</th>\n      <th>PO_NAME</th>\n      <th>POPULATION</th>\n      <th>AREA</th>\n      <th>STATE</th>\n      <th>COUNTY</th>\n      <th>ST_FIPS</th>\n      <th>CTY_FIPS</th>\n      <th>URL</th>\n      <th>SHAPE_AREA</th>\n      <th>SHAPE_LEN</th>\n      <th>geometry</th>\n    </tr>\n  </thead>\n  <tbody>\n    <tr>\n      <th>0</th>\n      <td>11436</td>\n      <td>0</td>\n      <td>Jamaica</td>\n      <td>18681.0</td>\n      <td>2.269930e+07</td>\n      <td>NY</td>\n      <td>Queens</td>\n      <td>36</td>\n      <td>081</td>\n      <td>http://www.usps.com/</td>\n      <td>0.0</td>\n      <td>0.0</td>\n      <td>POLYGON ((1038098.252 188138.380, 1038141.936 ...</td>\n    </tr>\n    <tr>\n      <th>1</th>\n      <td>11213</td>\n      <td>0</td>\n      <td>Brooklyn</td>\n      <td>62426.0</td>\n      <td>2.963100e+07</td>\n      <td>NY</td>\n      <td>Kings</td>\n      <td>36</td>\n      <td>047</td>\n      <td>http://www.usps.com/</td>\n      <td>0.0</td>\n      <td>0.0</td>\n      <td>POLYGON ((1001613.713 186926.440, 1002314.243 ...</td>\n    </tr>\n    <tr>\n      <th>2</th>\n      <td>11212</td>\n      <td>0</td>\n      <td>Brooklyn</td>\n      <td>83866.0</td>\n      <td>4.197210e+07</td>\n      <td>NY</td>\n      <td>Kings</td>\n      <td>36</td>\n      <td>047</td>\n      <td>http://www.usps.com/</td>\n      <td>0.0</td>\n      <td>0.0</td>\n      <td>POLYGON ((1011174.276 183696.338, 1011373.584 ...</td>\n    </tr>\n    <tr>\n      <th>3</th>\n      <td>11225</td>\n      <td>0</td>\n      <td>Brooklyn</td>\n      <td>56527.0</td>\n      <td>2.369863e+07</td>\n      <td>NY</td>\n      <td>Kings</td>\n      <td>36</td>\n      <td>047</td>\n      <td>http://www.usps.com/</td>\n      <td>0.0</td>\n      <td>0.0</td>\n      <td>POLYGON ((995908.365 183617.613, 996522.848 18...</td>\n    </tr>\n    <tr>\n      <th>4</th>\n      <td>11218</td>\n      <td>0</td>\n      <td>Brooklyn</td>\n      <td>72280.0</td>\n      <td>3.686880e+07</td>\n      <td>NY</td>\n      <td>Kings</td>\n      <td>36</td>\n      <td>047</td>\n      <td>http://www.usps.com/</td>\n      <td>0.0</td>\n      <td>0.0</td>\n      <td>POLYGON ((991997.113 176307.496, 992042.798 17...</td>\n    </tr>\n  </tbody>\n</table>\n</div>"
     },
     "metadata": {},
     "execution_count": 170
    }
   ],
   "source": [
    "zipcode = geopandas.read_file('Data/ZIP_CODE/ZIP_CODE_040114.shp')\n",
    "zipcode.head()"
   ]
  },
  {
   "cell_type": "code",
   "execution_count": 171,
   "metadata": {},
   "outputs": [],
   "source": [
    "zipcode.to_crs(epsg=4326, inplace=True)"
   ]
  },
  {
   "cell_type": "code",
   "execution_count": 172,
   "metadata": {},
   "outputs": [],
   "source": [
    "complaint2020_shp = geopandas.sjoin(zipcode, complaint2020, how=\"inner\", op='intersects')\n",
    "complaint2019_shp = geopandas.sjoin(zipcode, complaint2019, how=\"inner\", op='intersects')\n",
    "complaint2018_shp = geopandas.sjoin(zipcode, complaint2018, how=\"inner\", op='intersects')\n",
    "complaint2017_shp = geopandas.sjoin(zipcode, complaint2017, how=\"inner\", op='intersects')"
   ]
  },
  {
   "cell_type": "code",
   "execution_count": 173,
   "metadata": {},
   "outputs": [
    {
     "output_type": "execute_result",
     "data": {
      "text/plain": [
       "     index  CMPLNT_NUM CMPLNT_FR_DT CMPLNT_FR_TM CMPLNT_TO_DT CMPLNT_TO_TM  \\\n",
       "0  4077244   919408796   03/01/2019     04:20:00          NaN          NaN   \n",
       "1  4077246   136191313   03/01/2019     14:15:00          NaN          NaN   \n",
       "2  4077248   437502915   03/01/2019     16:10:00          NaN          NaN   \n",
       "3  4077261   517855355   03/04/2019     22:25:00          NaN          NaN   \n",
       "4  4077269   363693742   03/05/2019     14:30:00          NaN          NaN   \n",
       "\n",
       "   ADDR_PCT_CD      RPT_DT  KY_CD                     OFNS_DESC  ...  \\\n",
       "0         52.0  03/01/2019    104                          RAPE  ...   \n",
       "1         47.0  03/01/2019    344  ASSAULT 3 & RELATED OFFENSES  ...   \n",
       "2         49.0  03/01/2019    236             DANGEROUS WEAPONS  ...   \n",
       "3         52.0  03/04/2019    236             DANGEROUS WEAPONS  ...   \n",
       "4         25.0  03/05/2019    106                FELONY ASSAULT  ...   \n",
       "\n",
       "   Longitude                                   Lat_Lon            PATROL_BORO  \\\n",
       "0 -73.879630  (40.869058532000054, -73.87963014799993)      PATROL BORO BRONX   \n",
       "1 -73.860598   (40.88453640200004, -73.86059758999994)      PATROL BORO BRONX   \n",
       "2 -73.867224  (40.869703651000066, -73.86722364999997)      PATROL BORO BRONX   \n",
       "3 -73.896038   (40.86923916200004, -73.89603756999998)      PATROL BORO BRONX   \n",
       "4 -73.938148   (40.80051711800007, -73.93814768499993)  PATROL BORO MAN NORTH   \n",
       "\n",
       "  STATION_NAME VIC_AGE_GROUP VIC_RACE VIC_SEX       date  reclassification  \\\n",
       "0          NaN         18-24    BLACK       F 2019-03-01   personal crimes   \n",
       "1          NaN         25-44    BLACK       F 2019-03-01   personal crimes   \n",
       "2          NaN       UNKNOWN  UNKNOWN       E 2019-03-01      other crimes   \n",
       "3          NaN       UNKNOWN  UNKNOWN       E 2019-03-04      other crimes   \n",
       "4          NaN           <18    BLACK       F 2019-03-05   personal crimes   \n",
       "\n",
       "                     geometry  \n",
       "0  POINT (-73.87963 40.86906)  \n",
       "1  POINT (-73.86060 40.88454)  \n",
       "2  POINT (-73.86722 40.86970)  \n",
       "3  POINT (-73.89604 40.86924)  \n",
       "4  POINT (-73.93815 40.80052)  \n",
       "\n",
       "[5 rows x 39 columns]"
      ],
      "text/html": "<div>\n<style scoped>\n    .dataframe tbody tr th:only-of-type {\n        vertical-align: middle;\n    }\n\n    .dataframe tbody tr th {\n        vertical-align: top;\n    }\n\n    .dataframe thead th {\n        text-align: right;\n    }\n</style>\n<table border=\"1\" class=\"dataframe\">\n  <thead>\n    <tr style=\"text-align: right;\">\n      <th></th>\n      <th>index</th>\n      <th>CMPLNT_NUM</th>\n      <th>CMPLNT_FR_DT</th>\n      <th>CMPLNT_FR_TM</th>\n      <th>CMPLNT_TO_DT</th>\n      <th>CMPLNT_TO_TM</th>\n      <th>ADDR_PCT_CD</th>\n      <th>RPT_DT</th>\n      <th>KY_CD</th>\n      <th>OFNS_DESC</th>\n      <th>...</th>\n      <th>Longitude</th>\n      <th>Lat_Lon</th>\n      <th>PATROL_BORO</th>\n      <th>STATION_NAME</th>\n      <th>VIC_AGE_GROUP</th>\n      <th>VIC_RACE</th>\n      <th>VIC_SEX</th>\n      <th>date</th>\n      <th>reclassification</th>\n      <th>geometry</th>\n    </tr>\n  </thead>\n  <tbody>\n    <tr>\n      <th>0</th>\n      <td>4077244</td>\n      <td>919408796</td>\n      <td>03/01/2019</td>\n      <td>04:20:00</td>\n      <td>NaN</td>\n      <td>NaN</td>\n      <td>52.0</td>\n      <td>03/01/2019</td>\n      <td>104</td>\n      <td>RAPE</td>\n      <td>...</td>\n      <td>-73.879630</td>\n      <td>(40.869058532000054, -73.87963014799993)</td>\n      <td>PATROL BORO BRONX</td>\n      <td>NaN</td>\n      <td>18-24</td>\n      <td>BLACK</td>\n      <td>F</td>\n      <td>2019-03-01</td>\n      <td>personal crimes</td>\n      <td>POINT (-73.87963 40.86906)</td>\n    </tr>\n    <tr>\n      <th>1</th>\n      <td>4077246</td>\n      <td>136191313</td>\n      <td>03/01/2019</td>\n      <td>14:15:00</td>\n      <td>NaN</td>\n      <td>NaN</td>\n      <td>47.0</td>\n      <td>03/01/2019</td>\n      <td>344</td>\n      <td>ASSAULT 3 &amp; RELATED OFFENSES</td>\n      <td>...</td>\n      <td>-73.860598</td>\n      <td>(40.88453640200004, -73.86059758999994)</td>\n      <td>PATROL BORO BRONX</td>\n      <td>NaN</td>\n      <td>25-44</td>\n      <td>BLACK</td>\n      <td>F</td>\n      <td>2019-03-01</td>\n      <td>personal crimes</td>\n      <td>POINT (-73.86060 40.88454)</td>\n    </tr>\n    <tr>\n      <th>2</th>\n      <td>4077248</td>\n      <td>437502915</td>\n      <td>03/01/2019</td>\n      <td>16:10:00</td>\n      <td>NaN</td>\n      <td>NaN</td>\n      <td>49.0</td>\n      <td>03/01/2019</td>\n      <td>236</td>\n      <td>DANGEROUS WEAPONS</td>\n      <td>...</td>\n      <td>-73.867224</td>\n      <td>(40.869703651000066, -73.86722364999997)</td>\n      <td>PATROL BORO BRONX</td>\n      <td>NaN</td>\n      <td>UNKNOWN</td>\n      <td>UNKNOWN</td>\n      <td>E</td>\n      <td>2019-03-01</td>\n      <td>other crimes</td>\n      <td>POINT (-73.86722 40.86970)</td>\n    </tr>\n    <tr>\n      <th>3</th>\n      <td>4077261</td>\n      <td>517855355</td>\n      <td>03/04/2019</td>\n      <td>22:25:00</td>\n      <td>NaN</td>\n      <td>NaN</td>\n      <td>52.0</td>\n      <td>03/04/2019</td>\n      <td>236</td>\n      <td>DANGEROUS WEAPONS</td>\n      <td>...</td>\n      <td>-73.896038</td>\n      <td>(40.86923916200004, -73.89603756999998)</td>\n      <td>PATROL BORO BRONX</td>\n      <td>NaN</td>\n      <td>UNKNOWN</td>\n      <td>UNKNOWN</td>\n      <td>E</td>\n      <td>2019-03-04</td>\n      <td>other crimes</td>\n      <td>POINT (-73.89604 40.86924)</td>\n    </tr>\n    <tr>\n      <th>4</th>\n      <td>4077269</td>\n      <td>363693742</td>\n      <td>03/05/2019</td>\n      <td>14:30:00</td>\n      <td>NaN</td>\n      <td>NaN</td>\n      <td>25.0</td>\n      <td>03/05/2019</td>\n      <td>106</td>\n      <td>FELONY ASSAULT</td>\n      <td>...</td>\n      <td>-73.938148</td>\n      <td>(40.80051711800007, -73.93814768499993)</td>\n      <td>PATROL BORO MAN NORTH</td>\n      <td>NaN</td>\n      <td>&lt;18</td>\n      <td>BLACK</td>\n      <td>F</td>\n      <td>2019-03-05</td>\n      <td>personal crimes</td>\n      <td>POINT (-73.93815 40.80052)</td>\n    </tr>\n  </tbody>\n</table>\n<p>5 rows × 39 columns</p>\n</div>"
     },
     "metadata": {},
     "execution_count": 173
    }
   ],
   "source": [
    "complaint2019.head()"
   ]
  },
  {
   "cell_type": "code",
   "execution_count": 174,
   "metadata": {},
   "outputs": [],
   "source": [
    "complaint2020Count = complaint2020_shp[[\"CMPLNT_NUM\", \"date\", \"ZIPCODE\", \"reclassification\"]].groupby(by=[\"date\", \"ZIPCODE\", \"reclassification\"]).size().unstack(fill_value=0).reset_index()\n",
    "complaint2019Count = complaint2019_shp[[\"CMPLNT_NUM\", \"date\", \"ZIPCODE\", \"reclassification\"]].groupby(by=[\"date\", \"ZIPCODE\", \"reclassification\"]).size().unstack(fill_value=0).reset_index()\n",
    "complaint2018Count = complaint2018_shp[[\"CMPLNT_NUM\", \"date\", \"ZIPCODE\", \"reclassification\"]].groupby(by=[\"date\", \"ZIPCODE\", \"reclassification\"]).size().unstack(fill_value=0).reset_index()\n",
    "complaint2017Count = complaint2017_shp[[\"CMPLNT_NUM\", \"date\", \"ZIPCODE\", \"reclassification\"]].groupby(by=[\"date\", \"ZIPCODE\", \"reclassification\"]).size().unstack(fill_value=0).reset_index()\n"
   ]
  },
  {
   "cell_type": "code",
   "execution_count": 175,
   "metadata": {},
   "outputs": [],
   "source": [
    "complaint2020Count[\"total\"] = complaint2020Count[\"other crimes\"] + complaint2020Count[\"personal crimes\"] + complaint2020Count[\"property crimes\"] + complaint2020Count[\"statutory crimes\"] + complaint2020Count[\"traffic crimes\"]\n",
    "complaint2019Count[\"total\"] = complaint2019Count[\"other crimes\"] + complaint2019Count[\"personal crimes\"] + complaint2019Count[\"property crimes\"] + complaint2019Count[\"statutory crimes\"] + complaint2019Count[\"traffic crimes\"]\n",
    "complaint2018Count[\"total\"] = complaint2018Count[\"other crimes\"] + complaint2018Count[\"personal crimes\"] + complaint2018Count[\"property crimes\"] + complaint2018Count[\"statutory crimes\"] + complaint2018Count[\"traffic crimes\"]\n",
    "complaint2017Count[\"total\"] = complaint2017Count[\"other crimes\"] + complaint2017Count[\"personal crimes\"] + complaint2017Count[\"property crimes\"] + complaint2017Count[\"statutory crimes\"] + complaint2017Count[\"traffic crimes\"]"
   ]
  },
  {
   "cell_type": "code",
   "execution_count": 176,
   "metadata": {},
   "outputs": [
    {
     "output_type": "execute_result",
     "data": {
      "text/plain": [
       "Index(['date', 'ZIPCODE', 'other crimes', 'personal crimes', 'property crimes',\n",
       "       'statutory crimes', 'traffic crimes', 'total'],\n",
       "      dtype='object', name='reclassification')"
      ]
     },
     "metadata": {},
     "execution_count": 176
    }
   ],
   "source": [
    "complaint2020Count.columns"
   ]
  },
  {
   "cell_type": "code",
   "execution_count": 188,
   "metadata": {},
   "outputs": [],
   "source": [
    "complaint2020Count_shp = complaint2020Count.merge(zipcode, left_on=\"ZIPCODE\", right_on=\"ZIPCODE\")[['date', 'ZIPCODE', 'other crimes', 'personal crimes', 'property crimes',\n",
    "       'statutory crimes', 'traffic crimes', \"total\", \"POPULATION\", \"COUNTY\", \"geometry\"]]\n",
    "complaint2020Count_shp = geopandas.GeoDataFrame(complaint2020Count_shp)\n",
    "complaint2019Count_shp = complaint2019Count.merge(zipcode, left_on=\"ZIPCODE\", right_on=\"ZIPCODE\")[['date', 'ZIPCODE', 'other crimes', 'personal crimes', 'property crimes',\n",
    "       'statutory crimes', 'traffic crimes', \"total\", \"POPULATION\", \"COUNTY\", \"geometry\"]]\n",
    "complaint2019Count_shp = geopandas.GeoDataFrame(complaint2019Count_shp)\n",
    "complaint2018Count_shp = complaint2018Count.merge(zipcode, left_on=\"ZIPCODE\", right_on=\"ZIPCODE\")[['date', 'ZIPCODE', 'other crimes', 'personal crimes', 'property crimes',\n",
    "       'statutory crimes', 'traffic crimes', \"total\", \"POPULATION\", \"COUNTY\", \"geometry\"]]\n",
    "complaint2018Count_shp = geopandas.GeoDataFrame(complaint2018Count_shp)\n",
    "complaint2017Count_shp = complaint2017Count.merge(zipcode, left_on=\"ZIPCODE\", right_on=\"ZIPCODE\")[['date', 'ZIPCODE', 'other crimes', 'personal crimes', 'property crimes',\n",
    "       'statutory crimes', 'traffic crimes', \"total\", \"POPULATION\", \"COUNTY\", \"geometry\"]]\n",
    "complaint2017Count_shp = geopandas.GeoDataFrame(complaint2017Count_shp)"
   ]
  },
  {
   "cell_type": "code",
   "execution_count": 189,
   "metadata": {},
   "outputs": [
    {
     "output_type": "execute_result",
     "data": {
      "text/plain": [
       "        date ZIPCODE  other crimes  personal crimes  property crimes  \\\n",
       "0 2019-03-01   10001             0                2                6   \n",
       "1 2019-03-02   10001             2                1               10   \n",
       "2 2019-03-03   10001             1                0                6   \n",
       "3 2019-03-04   10001             0                0               10   \n",
       "4 2019-03-05   10001             0                2                6   \n",
       "\n",
       "   statutory crimes  traffic crimes  total  POPULATION    COUNTY  \\\n",
       "0                 0               0      8     22413.0  New York   \n",
       "1                 1               0     14     22413.0  New York   \n",
       "2                 0               0      7     22413.0  New York   \n",
       "3                 0               0     10     22413.0  New York   \n",
       "4                 3               0     11     22413.0  New York   \n",
       "\n",
       "                                            geometry  \n",
       "0  POLYGON ((-74.00827 40.75259, -74.00819 40.752...  \n",
       "1  POLYGON ((-74.00827 40.75259, -74.00819 40.752...  \n",
       "2  POLYGON ((-74.00827 40.75259, -74.00819 40.752...  \n",
       "3  POLYGON ((-74.00827 40.75259, -74.00819 40.752...  \n",
       "4  POLYGON ((-74.00827 40.75259, -74.00819 40.752...  "
      ],
      "text/html": "<div>\n<style scoped>\n    .dataframe tbody tr th:only-of-type {\n        vertical-align: middle;\n    }\n\n    .dataframe tbody tr th {\n        vertical-align: top;\n    }\n\n    .dataframe thead th {\n        text-align: right;\n    }\n</style>\n<table border=\"1\" class=\"dataframe\">\n  <thead>\n    <tr style=\"text-align: right;\">\n      <th></th>\n      <th>date</th>\n      <th>ZIPCODE</th>\n      <th>other crimes</th>\n      <th>personal crimes</th>\n      <th>property crimes</th>\n      <th>statutory crimes</th>\n      <th>traffic crimes</th>\n      <th>total</th>\n      <th>POPULATION</th>\n      <th>COUNTY</th>\n      <th>geometry</th>\n    </tr>\n  </thead>\n  <tbody>\n    <tr>\n      <th>0</th>\n      <td>2019-03-01</td>\n      <td>10001</td>\n      <td>0</td>\n      <td>2</td>\n      <td>6</td>\n      <td>0</td>\n      <td>0</td>\n      <td>8</td>\n      <td>22413.0</td>\n      <td>New York</td>\n      <td>POLYGON ((-74.00827 40.75259, -74.00819 40.752...</td>\n    </tr>\n    <tr>\n      <th>1</th>\n      <td>2019-03-02</td>\n      <td>10001</td>\n      <td>2</td>\n      <td>1</td>\n      <td>10</td>\n      <td>1</td>\n      <td>0</td>\n      <td>14</td>\n      <td>22413.0</td>\n      <td>New York</td>\n      <td>POLYGON ((-74.00827 40.75259, -74.00819 40.752...</td>\n    </tr>\n    <tr>\n      <th>2</th>\n      <td>2019-03-03</td>\n      <td>10001</td>\n      <td>1</td>\n      <td>0</td>\n      <td>6</td>\n      <td>0</td>\n      <td>0</td>\n      <td>7</td>\n      <td>22413.0</td>\n      <td>New York</td>\n      <td>POLYGON ((-74.00827 40.75259, -74.00819 40.752...</td>\n    </tr>\n    <tr>\n      <th>3</th>\n      <td>2019-03-04</td>\n      <td>10001</td>\n      <td>0</td>\n      <td>0</td>\n      <td>10</td>\n      <td>0</td>\n      <td>0</td>\n      <td>10</td>\n      <td>22413.0</td>\n      <td>New York</td>\n      <td>POLYGON ((-74.00827 40.75259, -74.00819 40.752...</td>\n    </tr>\n    <tr>\n      <th>4</th>\n      <td>2019-03-05</td>\n      <td>10001</td>\n      <td>0</td>\n      <td>2</td>\n      <td>6</td>\n      <td>3</td>\n      <td>0</td>\n      <td>11</td>\n      <td>22413.0</td>\n      <td>New York</td>\n      <td>POLYGON ((-74.00827 40.75259, -74.00819 40.752...</td>\n    </tr>\n  </tbody>\n</table>\n</div>"
     },
     "metadata": {},
     "execution_count": 189
    }
   ],
   "source": [
    "complaint2019Count_shp.head()"
   ]
  },
  {
   "cell_type": "code",
   "execution_count": 183,
   "metadata": {},
   "outputs": [
    {
     "output_type": "execute_result",
     "data": {
      "text/plain": [
       "         date ZIPCODE  other crimes  personal crimes  property crimes  \\\n",
       "0  2020-03-01   00083             0                1                1   \n",
       "1  2020-03-02   00083             1                0                1   \n",
       "2  2020-03-04   00083             0                0                1   \n",
       "3  2020-03-07   00083             0                0                1   \n",
       "4  2020-03-10   00083             0                1                1   \n",
       "\n",
       "   statutory crimes  traffic crimes  total  POPULATION    COUNTY  \\\n",
       "0                 0               0      2        25.0  New York   \n",
       "1                 0               0      2        25.0  New York   \n",
       "2                 0               0      1        25.0  New York   \n",
       "3                 0               0      1        25.0  New York   \n",
       "4                 0               0      2        25.0  New York   \n",
       "\n",
       "                                            geometry  \n",
       "0  POLYGON ((-73.94922 40.79691, -73.94932 40.796...  \n",
       "1  POLYGON ((-73.94922 40.79691, -73.94932 40.796...  \n",
       "2  POLYGON ((-73.94922 40.79691, -73.94932 40.796...  \n",
       "3  POLYGON ((-73.94922 40.79691, -73.94932 40.796...  \n",
       "4  POLYGON ((-73.94922 40.79691, -73.94932 40.796...  "
      ],
      "text/html": "<div>\n<style scoped>\n    .dataframe tbody tr th:only-of-type {\n        vertical-align: middle;\n    }\n\n    .dataframe tbody tr th {\n        vertical-align: top;\n    }\n\n    .dataframe thead th {\n        text-align: right;\n    }\n</style>\n<table border=\"1\" class=\"dataframe\">\n  <thead>\n    <tr style=\"text-align: right;\">\n      <th></th>\n      <th>date</th>\n      <th>ZIPCODE</th>\n      <th>other crimes</th>\n      <th>personal crimes</th>\n      <th>property crimes</th>\n      <th>statutory crimes</th>\n      <th>traffic crimes</th>\n      <th>total</th>\n      <th>POPULATION</th>\n      <th>COUNTY</th>\n      <th>geometry</th>\n    </tr>\n  </thead>\n  <tbody>\n    <tr>\n      <th>0</th>\n      <td>2020-03-01</td>\n      <td>00083</td>\n      <td>0</td>\n      <td>1</td>\n      <td>1</td>\n      <td>0</td>\n      <td>0</td>\n      <td>2</td>\n      <td>25.0</td>\n      <td>New York</td>\n      <td>POLYGON ((-73.94922 40.79691, -73.94932 40.796...</td>\n    </tr>\n    <tr>\n      <th>1</th>\n      <td>2020-03-02</td>\n      <td>00083</td>\n      <td>1</td>\n      <td>0</td>\n      <td>1</td>\n      <td>0</td>\n      <td>0</td>\n      <td>2</td>\n      <td>25.0</td>\n      <td>New York</td>\n      <td>POLYGON ((-73.94922 40.79691, -73.94932 40.796...</td>\n    </tr>\n    <tr>\n      <th>2</th>\n      <td>2020-03-04</td>\n      <td>00083</td>\n      <td>0</td>\n      <td>0</td>\n      <td>1</td>\n      <td>0</td>\n      <td>0</td>\n      <td>1</td>\n      <td>25.0</td>\n      <td>New York</td>\n      <td>POLYGON ((-73.94922 40.79691, -73.94932 40.796...</td>\n    </tr>\n    <tr>\n      <th>3</th>\n      <td>2020-03-07</td>\n      <td>00083</td>\n      <td>0</td>\n      <td>0</td>\n      <td>1</td>\n      <td>0</td>\n      <td>0</td>\n      <td>1</td>\n      <td>25.0</td>\n      <td>New York</td>\n      <td>POLYGON ((-73.94922 40.79691, -73.94932 40.796...</td>\n    </tr>\n    <tr>\n      <th>4</th>\n      <td>2020-03-10</td>\n      <td>00083</td>\n      <td>0</td>\n      <td>1</td>\n      <td>1</td>\n      <td>0</td>\n      <td>0</td>\n      <td>2</td>\n      <td>25.0</td>\n      <td>New York</td>\n      <td>POLYGON ((-73.94922 40.79691, -73.94932 40.796...</td>\n    </tr>\n  </tbody>\n</table>\n</div>"
     },
     "metadata": {},
     "execution_count": 183
    }
   ],
   "source": [
    "complaint2020Count_shp.head()"
   ]
  },
  {
   "cell_type": "code",
   "execution_count": 221,
   "metadata": {},
   "outputs": [],
   "source": [
    "complaint2020Count_shp[\"date\"]= complaint2020Count_shp[\"date\"].dt.strftime('%Y-%m-%d')\n",
    "complaint2019Count_shp[\"date\"]= complaint2019Count_shp[\"date\"].dt.strftime('%Y-%m-%d')\n",
    "complaint2018Count_shp[\"date\"]= complaint2018Count_shp[\"date\"].dt.strftime('%Y-%m-%d')\n",
    "complaint2017Count_shp[\"date\"]= complaint2017Count_shp[\"date\"].dt.strftime('%Y-%m-%d')"
   ]
  },
  {
   "cell_type": "code",
   "execution_count": 219,
   "metadata": {},
   "outputs": [],
   "source": [
    "complaint2020Count_shp.to_file(\"clean_data/complaint2020Count\")\n"
   ]
  },
  {
   "cell_type": "code",
   "execution_count": 222,
   "metadata": {},
   "outputs": [],
   "source": [
    "complaint2018Count_shp.to_file(\"clean_data/complaint2018Count\")\n"
   ]
  },
  {
   "cell_type": "code",
   "execution_count": 223,
   "metadata": {},
   "outputs": [],
   "source": [
    "complaint2019Count_shp.to_file(\"clean_data/complaint2019Count\")\n"
   ]
  },
  {
   "cell_type": "code",
   "execution_count": 224,
   "metadata": {},
   "outputs": [],
   "source": [
    "complaint2017Count_shp.to_file(\"clean_data/complaint2017Count\")"
   ]
  },
  {
   "cell_type": "code",
   "execution_count": null,
   "metadata": {},
   "outputs": [],
   "source": []
  }
 ]
}